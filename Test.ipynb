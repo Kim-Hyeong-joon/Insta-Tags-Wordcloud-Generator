{
 "cells": [
  {
   "cell_type": "code",
   "execution_count": 3,
   "id": "462e82d7",
   "metadata": {},
   "outputs": [
    {
     "ename": "ImportError",
     "evalue": "cannot import name 'WordCloud' from partially initialized module 'wordcloud' (most likely due to a circular import) (/Users/khj/Desktop/programming/insta-tags-minor/wordcloud.py)",
     "output_type": "error",
     "traceback": [
      "\u001b[0;31m---------------------------------------------------------------------------\u001b[0m",
      "\u001b[0;31mImportError\u001b[0m                               Traceback (most recent call last)",
      "Cell \u001b[0;32mIn[3], line 3\u001b[0m\n\u001b[1;32m      1\u001b[0m \u001b[38;5;28;01mimport\u001b[39;00m \u001b[38;5;21;01mpandas\u001b[39;00m \u001b[38;5;28;01mas\u001b[39;00m \u001b[38;5;21;01mpd\u001b[39;00m\n\u001b[1;32m      2\u001b[0m \u001b[38;5;28;01mimport\u001b[39;00m \u001b[38;5;21;01mmatplotlib\u001b[39;00m\u001b[38;5;21;01m.\u001b[39;00m\u001b[38;5;21;01mpyplot\u001b[39;00m \u001b[38;5;28;01mas\u001b[39;00m \u001b[38;5;21;01mplt\u001b[39;00m\n\u001b[0;32m----> 3\u001b[0m \u001b[38;5;28;01mfrom\u001b[39;00m \u001b[38;5;21;01mwordcloud\u001b[39;00m \u001b[38;5;28;01mimport\u001b[39;00m WordCloud\n\u001b[1;32m      5\u001b[0m df \u001b[38;5;241m=\u001b[39m pd\u001b[38;5;241m.\u001b[39mDataFrame({\n\u001b[1;32m      6\u001b[0m     \u001b[38;5;124m\"\u001b[39m\u001b[38;5;124mindex\u001b[39m\u001b[38;5;124m\"\u001b[39m: [\u001b[38;5;124m'\u001b[39m\u001b[38;5;124m원피스\u001b[39m\u001b[38;5;124m'\u001b[39m,\u001b[38;5;124m'\u001b[39m\u001b[38;5;124m린넨\u001b[39m\u001b[38;5;124m'\u001b[39m,\u001b[38;5;124m'\u001b[39m\u001b[38;5;124m로브\u001b[39m\u001b[38;5;124m'\u001b[39m],\n\u001b[1;32m      7\u001b[0m     \u001b[38;5;124m\"\u001b[39m\u001b[38;5;124mcount\u001b[39m\u001b[38;5;124m\"\u001b[39m: [\u001b[38;5;241m1\u001b[39m,\u001b[38;5;241m2\u001b[39m,\u001b[38;5;241m3\u001b[39m]\n\u001b[1;32m      8\u001b[0m })\n\u001b[1;32m     10\u001b[0m \u001b[38;5;28;01mdef\u001b[39;00m \u001b[38;5;21mwordcloud_generator\u001b[39m(df):\n",
      "File \u001b[0;32m~/Desktop/programming/insta-tags-minor/wordcloud.py:2\u001b[0m\n\u001b[1;32m      1\u001b[0m \u001b[38;5;28;01mimport\u001b[39;00m \u001b[38;5;21;01mmatplotlib\u001b[39;00m\u001b[38;5;21;01m.\u001b[39;00m\u001b[38;5;21;01mpyplot\u001b[39;00m \u001b[38;5;28;01mas\u001b[39;00m \u001b[38;5;21;01mplt\u001b[39;00m\n\u001b[0;32m----> 2\u001b[0m \u001b[38;5;28;01mfrom\u001b[39;00m \u001b[38;5;21;01mwordcloud\u001b[39;00m \u001b[38;5;28;01mimport\u001b[39;00m WordCloud\n\u001b[1;32m      4\u001b[0m \u001b[38;5;28;01mdef\u001b[39;00m \u001b[38;5;21mwordcloud_generator\u001b[39m(df):\n\u001b[1;32m      5\u001b[0m     wordcloud \u001b[38;5;241m=\u001b[39m WordCloud(\n\u001b[1;32m      6\u001b[0m         font_path\u001b[38;5;241m=\u001b[39m\u001b[38;5;124m\"\u001b[39m\u001b[38;5;124mfont/NotoSansKR-Regular.ttf\u001b[39m\u001b[38;5;124m\"\u001b[39m,\n\u001b[1;32m      7\u001b[0m         width\u001b[38;5;241m=\u001b[39m\u001b[38;5;241m800\u001b[39m,\n\u001b[0;32m   (...)\u001b[0m\n\u001b[1;32m     10\u001b[0m         prefer_horizontal\u001b[38;5;241m=\u001b[39m\u001b[38;5;241m0.9999\u001b[39m\n\u001b[1;32m     11\u001b[0m     )\n",
      "\u001b[0;31mImportError\u001b[0m: cannot import name 'WordCloud' from partially initialized module 'wordcloud' (most likely due to a circular import) (/Users/khj/Desktop/programming/insta-tags-minor/wordcloud.py)"
     ]
    }
   ],
   "source": [
    "import pandas as pd\n",
    "import matplotlib.pyplot as plt\n",
    "from wordcloud import WordCloud\n",
    "\n",
    "df = pd.DataFrame({\n",
    "    \"index\": ['원피스','린넨','로브'],\n",
    "    \"count\": [1,2,3]\n",
    "})\n",
    "\n",
    "def wordcloud_generator(df):\n",
    "    wordcloud = WordCloud(\n",
    "        font_path=\"font/NotoSansKR-Regular.ttf\",\n",
    "        width= 800,\n",
    "        height= 800,\n",
    "        background_color=\"white\",\n",
    "        prefer_horizontal = 0.9999\n",
    "    )\n",
    "\n",
    "    frequencies = df.set_index(\"keyword\").to_dict()['count']\n",
    "\n",
    "    keyword = wordcloud.generate_from_frequencies(frequencies)\n",
    "\n",
    "    array = keyword.to_array()\n",
    "\n",
    "    plt.figure(figsize=(10,10), frameon=False)\n",
    "    plt.imshow(\n",
    "        array,\n",
    "        interpolation=\"bilinear\"\n",
    "    )\n",
    "    plt.axis(\"off\")\n",
    "    plt.savefig(\"wordcloud.png\")\n",
    "    \n",
    "wordcloud_generator(df)"
   ]
  }
 ],
 "metadata": {
  "kernelspec": {
   "display_name": "Python 3 (ipykernel)",
   "language": "python",
   "name": "python3"
  },
  "language_info": {
   "codemirror_mode": {
    "name": "ipython",
    "version": 3
   },
   "file_extension": ".py",
   "mimetype": "text/x-python",
   "name": "python",
   "nbconvert_exporter": "python",
   "pygments_lexer": "ipython3",
   "version": "3.9.16"
  }
 },
 "nbformat": 4,
 "nbformat_minor": 5
}

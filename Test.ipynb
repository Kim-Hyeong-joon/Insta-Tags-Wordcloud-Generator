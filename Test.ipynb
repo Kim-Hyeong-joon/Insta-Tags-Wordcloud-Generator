{
 "cells": [
  {
   "cell_type": "code",
   "execution_count": 5,
   "id": "462e82d7",
   "metadata": {},
   "outputs": [
    {
     "data": {
      "text/plain": [
       "'12,341,241,234,123 Posts'"
      ]
     },
     "execution_count": 5,
     "metadata": {},
     "output_type": "execute_result"
    }
   ],
   "source": [
    "\n",
    "\n",
    "number = 12341241234123\n",
    "f\"{number:,} Posts\"\n"
   ]
  }
 ],
 "metadata": {
  "kernelspec": {
   "display_name": "Python 3 (ipykernel)",
   "language": "python",
   "name": "python3"
  },
  "language_info": {
   "codemirror_mode": {
    "name": "ipython",
    "version": 3
   },
   "file_extension": ".py",
   "mimetype": "text/x-python",
   "name": "python",
   "nbconvert_exporter": "python",
   "pygments_lexer": "ipython3",
   "version": "3.9.16"
  }
 },
 "nbformat": 4,
 "nbformat_minor": 5
}
